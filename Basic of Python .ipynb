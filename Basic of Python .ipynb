{
 "cells": [
  {
   "cell_type": "markdown",
   "id": "2dbdfc36",
   "metadata": {},
   "source": [
    "#  Basics in Python"
   ]
  },
  {
   "cell_type": "markdown",
   "id": "9dfa147b",
   "metadata": {},
   "source": [
    "### Creating a list and and performing the inbuilt fun of list"
   ]
  },
  {
   "cell_type": "code",
   "execution_count": 5,
   "id": "a47914ef",
   "metadata": {},
   "outputs": [],
   "source": [
    "#creating a list \n",
    "list=[1,2,3,\"saurabh\",\"data\",500,1000]"
   ]
  },
  {
   "cell_type": "code",
   "execution_count": 6,
   "id": "b03f8b75",
   "metadata": {},
   "outputs": [
    {
     "data": {
      "text/plain": [
       "list"
      ]
     },
     "execution_count": 6,
     "metadata": {},
     "output_type": "execute_result"
    }
   ],
   "source": [
    "# checking the type \n",
    "type(list)"
   ]
  },
  {
   "cell_type": "code",
   "execution_count": 16,
   "id": "0b1ea3da",
   "metadata": {},
   "outputs": [],
   "source": [
    "#appened is use to... add the elements in the list to the last of the list \n",
    "list.append(\"ok\")"
   ]
  },
  {
   "cell_type": "code",
   "execution_count": 4,
   "id": "4805d4c6",
   "metadata": {},
   "outputs": [
    {
     "data": {
      "text/plain": [
       "[1, 2, 3, 'saurabh', 'data', 500, 1000, 'ok']"
      ]
     },
     "execution_count": 4,
     "metadata": {},
     "output_type": "execute_result"
    }
   ],
   "source": [
    "list"
   ]
  },
  {
   "cell_type": "code",
   "execution_count": 8,
   "id": "2f94e4ca",
   "metadata": {},
   "outputs": [],
   "source": [
    "# Insert()- insert the item in a specific order \n",
    "list.insert(3,\"sandy\")"
   ]
  },
  {
   "cell_type": "code",
   "execution_count": 9,
   "id": "94d49552",
   "metadata": {},
   "outputs": [
    {
     "data": {
      "text/plain": [
       "[1, 2, 3, 'sandy', 'saurabh', 'data', 500, 1000, 'ok']"
      ]
     },
     "execution_count": 9,
     "metadata": {},
     "output_type": "execute_result"
    }
   ],
   "source": [
    "list"
   ]
  },
  {
   "cell_type": "code",
   "execution_count": 19,
   "id": "b09703f4",
   "metadata": {},
   "outputs": [],
   "source": [
    "#extend-add the group of item in the list \n",
    "list.extend([\"Hello\",\"hi\"])"
   ]
  },
  {
   "cell_type": "code",
   "execution_count": 20,
   "id": "c97dbbbf",
   "metadata": {},
   "outputs": [
    {
     "data": {
      "text/plain": [
       "[1,\n",
       " 2,\n",
       " 3,\n",
       " 'sandy',\n",
       " 'saurabh',\n",
       " 'data',\n",
       " 500,\n",
       " 1000,\n",
       " 'ok',\n",
       " 'ok',\n",
       " 'ok',\n",
       " 'H',\n",
       " 'e',\n",
       " 'l',\n",
       " 'l',\n",
       " 'o',\n",
       " 'Hello',\n",
       " 'hi']"
      ]
     },
     "execution_count": 20,
     "metadata": {},
     "output_type": "execute_result"
    }
   ],
   "source": [
    "list"
   ]
  },
  {
   "cell_type": "code",
   "execution_count": 24,
   "id": "f7105e5b",
   "metadata": {},
   "outputs": [
    {
     "data": {
      "text/plain": [
       "'data'"
      ]
     },
     "execution_count": 24,
     "metadata": {},
     "output_type": "execute_result"
    }
   ],
   "source": [
    "# pip()- romove the item in a list ,and show the romoving item \n",
    "list.pop(5)"
   ]
  },
  {
   "cell_type": "code",
   "execution_count": 25,
   "id": "18a554fd",
   "metadata": {},
   "outputs": [
    {
     "data": {
      "text/plain": [
       "[1,\n",
       " 2,\n",
       " 3,\n",
       " 'sandy',\n",
       " 'saurabh',\n",
       " 500,\n",
       " 1000,\n",
       " 'ok',\n",
       " 'ok',\n",
       " 'ok',\n",
       " 'H',\n",
       " 'e',\n",
       " 'l',\n",
       " 'l',\n",
       " 'o',\n",
       " 'Hello']"
      ]
     },
     "execution_count": 25,
     "metadata": {},
     "output_type": "execute_result"
    }
   ],
   "source": [
    "list"
   ]
  },
  {
   "cell_type": "code",
   "execution_count": 26,
   "id": "9d3f2e91",
   "metadata": {},
   "outputs": [
    {
     "data": {
      "text/plain": [
       "1"
      ]
     },
     "execution_count": 26,
     "metadata": {},
     "output_type": "execute_result"
    }
   ],
   "source": [
    "# count()- calculates the total occurances of given item in the  list \n",
    "list.count(3)"
   ]
  },
  {
   "cell_type": "code",
   "execution_count": 27,
   "id": "a783defe",
   "metadata": {},
   "outputs": [
    {
     "data": {
      "text/plain": [
       "16"
      ]
     },
     "execution_count": 27,
     "metadata": {},
     "output_type": "execute_result"
    }
   ],
   "source": [
    "# len()-calculates the totol length of list \n",
    "len(list)"
   ]
  },
  {
   "cell_type": "code",
   "execution_count": 28,
   "id": "180c03a4",
   "metadata": {},
   "outputs": [
    {
     "data": {
      "text/plain": [
       "3"
      ]
     },
     "execution_count": 28,
     "metadata": {},
     "output_type": "execute_result"
    }
   ],
   "source": [
    "# index- return the index of frist occurances \n",
    "list.index(\"sandy\")"
   ]
  },
  {
   "cell_type": "code",
   "execution_count": 41,
   "id": "ada87cc0",
   "metadata": {},
   "outputs": [],
   "source": [
    "list1=[\"datas\",\"gaga\",\"ssandip\",\"sandy\",\"gama\"]"
   ]
  },
  {
   "cell_type": "markdown",
   "id": "5e6857ba",
   "metadata": {},
   "source": [
    "# sets-"
   ]
  },
  {
   "cell_type": "markdown",
   "id": "8f973d04",
   "metadata": {},
   "source": [
    "##  -a set is a unordered collection data types that is ireterable mutable and has no duplicate value"
   ]
  },
  {
   "cell_type": "code",
   "execution_count": 46,
   "id": "5c8b252e",
   "metadata": {},
   "outputs": [],
   "source": [
    "num={1,2,3,5,8,10}"
   ]
  },
  {
   "cell_type": "code",
   "execution_count": 47,
   "id": "e9f99e35",
   "metadata": {},
   "outputs": [
    {
     "data": {
      "text/plain": [
       "set"
      ]
     },
     "execution_count": 47,
     "metadata": {},
     "output_type": "execute_result"
    }
   ],
   "source": [
    "type(num)"
   ]
  },
  {
   "cell_type": "code",
   "execution_count": 50,
   "id": "09f8007a",
   "metadata": {},
   "outputs": [],
   "source": [
    " # to add the item in the set \n",
    "num.add(80)"
   ]
  },
  {
   "cell_type": "code",
   "execution_count": 51,
   "id": "eaec2391",
   "metadata": {},
   "outputs": [
    {
     "data": {
      "text/plain": [
       "{1, 2, 3, 5, 8, 10, 80}"
      ]
     },
     "execution_count": 51,
     "metadata": {},
     "output_type": "execute_result"
    }
   ],
   "source": [
    "num"
   ]
  },
  {
   "cell_type": "code",
   "execution_count": 55,
   "id": "a464146a",
   "metadata": {},
   "outputs": [],
   "source": [
    "# for romoveing the all item in the set \n",
    "num.clear()"
   ]
  },
  {
   "cell_type": "code",
   "execution_count": 54,
   "id": "49f93cee",
   "metadata": {},
   "outputs": [
    {
     "data": {
      "text/plain": [
       "set()"
      ]
     },
     "execution_count": 54,
     "metadata": {},
     "output_type": "execute_result"
    }
   ],
   "source": [
    "num\n"
   ]
  },
  {
   "cell_type": "code",
   "execution_count": 62,
   "id": "a13c5fe1",
   "metadata": {},
   "outputs": [],
   "source": [
    "num1={1,2,3,5,8,10,10,1,5,8}"
   ]
  },
  {
   "cell_type": "code",
   "execution_count": 64,
   "id": "73720d44",
   "metadata": {},
   "outputs": [
    {
     "data": {
      "text/plain": [
       "{1, 2, 3, 5, 8, 10}"
      ]
     },
     "execution_count": 64,
     "metadata": {},
     "output_type": "execute_result"
    }
   ],
   "source": [
    "#the set does not contain the duplicate item \n",
    "num1"
   ]
  },
  {
   "cell_type": "code",
   "execution_count": 65,
   "id": "5268a325",
   "metadata": {},
   "outputs": [
    {
     "data": {
      "text/plain": [
       "{1, 2, 3, 5, 8, 10}"
      ]
     },
     "execution_count": 65,
     "metadata": {},
     "output_type": "execute_result"
    }
   ],
   "source": [
    "# copy the set \n",
    "num1.copy()"
   ]
  },
  {
   "cell_type": "code",
   "execution_count": 70,
   "id": "f79d9eb8",
   "metadata": {},
   "outputs": [],
   "source": [
    "superhero={\"hulk\",\"shaktiman\",\"badman\",\"spyderman\"}\n",
    "superhero2={\"hulk\",\"shaktiman\",\"badman\",\"spyderman\",\"intman\",\"harry\",\"jumanji\"}"
   ]
  },
  {
   "cell_type": "code",
   "execution_count": 77,
   "id": "64528cc1",
   "metadata": {},
   "outputs": [
    {
     "data": {
      "text/plain": [
       "set()"
      ]
     },
     "execution_count": 77,
     "metadata": {},
     "output_type": "execute_result"
    }
   ],
   "source": [
    "# to show the diffrences bet the two sets\n",
    "superhero.difference(superhero2)"
   ]
  },
  {
   "cell_type": "code",
   "execution_count": 78,
   "id": "0083b2e9",
   "metadata": {},
   "outputs": [
    {
     "data": {
      "text/plain": [
       "set()"
      ]
     },
     "execution_count": 78,
     "metadata": {},
     "output_type": "execute_result"
    }
   ],
   "source": [
    "superhero"
   ]
  },
  {
   "cell_type": "code",
   "execution_count": 79,
   "id": "c43f51fc",
   "metadata": {},
   "outputs": [
    {
     "data": {
      "text/plain": [
       "{'badman', 'harry', 'hulk', 'intman', 'jumanji', 'shaktiman', 'spyderman'}"
      ]
     },
     "execution_count": 79,
     "metadata": {},
     "output_type": "execute_result"
    }
   ],
   "source": [
    "superhero2"
   ]
  },
  {
   "cell_type": "code",
   "execution_count": 75,
   "id": "edad1fa2",
   "metadata": {},
   "outputs": [],
   "source": [
    "superhero.difference_update(superhero2)"
   ]
  },
  {
   "cell_type": "code",
   "execution_count": 76,
   "id": "45d90814",
   "metadata": {},
   "outputs": [
    {
     "data": {
      "text/plain": [
       "set()"
      ]
     },
     "execution_count": 76,
     "metadata": {},
     "output_type": "execute_result"
    }
   ],
   "source": [
    "superhero"
   ]
  },
  {
   "cell_type": "markdown",
   "id": "77d87588",
   "metadata": {},
   "source": [
    "# Dictionaries"
   ]
  },
  {
   "cell_type": "markdown",
   "id": "e07d3d72",
   "metadata": {},
   "source": [
    "## - a dictionaries is a collection which is unorderered changeable and indexed. written with curly brackets and they have keys and values "
   ]
  },
  {
   "cell_type": "code",
   "execution_count": 80,
   "id": "abc6ec50",
   "metadata": {},
   "outputs": [],
   "source": [
    "dict={}"
   ]
  },
  {
   "cell_type": "code",
   "execution_count": 81,
   "id": "03284931",
   "metadata": {},
   "outputs": [
    {
     "data": {
      "text/plain": [
       "dict"
      ]
     },
     "execution_count": 81,
     "metadata": {},
     "output_type": "execute_result"
    }
   ],
   "source": [
    "type(dict)"
   ]
  },
  {
   "cell_type": "code",
   "execution_count": 89,
   "id": "83c65323",
   "metadata": {},
   "outputs": [],
   "source": [
    "# creating a dictionaries\n",
    "dict={\"stud1\":\"sandip\",\"stud2\":\"anushree\",\"stud3\":\"saurabh\",\"stud4\":\"sandy\"}"
   ]
  },
  {
   "cell_type": "code",
   "execution_count": 90,
   "id": "9016f4ac",
   "metadata": {},
   "outputs": [
    {
     "data": {
      "text/plain": [
       "'sandip'"
      ]
     },
     "execution_count": 90,
     "metadata": {},
     "output_type": "execute_result"
    }
   ],
   "source": [
    "#Accecing the item by their keys\n",
    "dict[\"stud1\"]"
   ]
  },
  {
   "cell_type": "code",
   "execution_count": 95,
   "id": "3574e00c",
   "metadata": {},
   "outputs": [
    {
     "name": "stdout",
     "output_type": "stream",
     "text": [
      "stud1\n",
      "stud2\n",
      "stud3\n",
      "stud4\n"
     ]
    }
   ],
   "source": [
    "#accecing the all keys item by the loop \n",
    "for x in dict.keys():\n",
    "    print(x)"
   ]
  },
  {
   "cell_type": "code",
   "execution_count": 96,
   "id": "1d790f06",
   "metadata": {},
   "outputs": [
    {
     "name": "stdout",
     "output_type": "stream",
     "text": [
      "sandip\n",
      "anushree\n",
      "saurabh\n",
      "sandy\n"
     ]
    }
   ],
   "source": [
    "#accecing the all values item by the loop \n",
    "for x in dict.values():\n",
    "    print(x)"
   ]
  },
  {
   "cell_type": "code",
   "execution_count": 94,
   "id": "b9c04c85",
   "metadata": {},
   "outputs": [
    {
     "name": "stdout",
     "output_type": "stream",
     "text": [
      "('stud1', 'sandip')\n",
      "('stud2', 'anushree')\n",
      "('stud3', 'saurabh')\n",
      "('stud4', 'sandy')\n"
     ]
    }
   ],
   "source": [
    "#we can both accecing key and value pair \n",
    "for x in dict.items():\n",
    "    print(x)"
   ]
  },
  {
   "cell_type": "markdown",
   "id": "87c0f81b",
   "metadata": {},
   "source": [
    "# tuple "
   ]
  },
  {
   "cell_type": "markdown",
   "id": "2bfcda32",
   "metadata": {},
   "source": [
    "## is a collection of the objects ...is similar to the list but the major differences is the list are mutable but the the tuple are not "
   ]
  },
  {
   "cell_type": "code",
   "execution_count": 97,
   "id": "f2643da3",
   "metadata": {},
   "outputs": [],
   "source": [
    "my_tuple=(1,5,6,\"saurabh\",\"sandip \")"
   ]
  },
  {
   "cell_type": "code",
   "execution_count": 98,
   "id": "d39386ca",
   "metadata": {},
   "outputs": [
    {
     "data": {
      "text/plain": [
       "tuple"
      ]
     },
     "execution_count": 98,
     "metadata": {},
     "output_type": "execute_result"
    }
   ],
   "source": [
    "type(my_tuple)"
   ]
  },
  {
   "cell_type": "code",
   "execution_count": 100,
   "id": "e790cba7",
   "metadata": {},
   "outputs": [],
   "source": [
    "##accecing the all keys item by the loop \n",
    "#my_tuple[\"saurabh\"]=\"sau\""
   ]
  },
  {
   "cell_type": "code",
   "execution_count": null,
   "id": "e2f67996",
   "metadata": {},
   "outputs": [],
   "source": []
  }
 ],
 "metadata": {
  "kernelspec": {
   "display_name": "Python 3 (ipykernel)",
   "language": "python",
   "name": "python3"
  },
  "language_info": {
   "codemirror_mode": {
    "name": "ipython",
    "version": 3
   },
   "file_extension": ".py",
   "mimetype": "text/x-python",
   "name": "python",
   "nbconvert_exporter": "python",
   "pygments_lexer": "ipython3",
   "version": "3.9.12"
  }
 },
 "nbformat": 4,
 "nbformat_minor": 5
}
